{
  "cells": [
    {
      "cell_type": "code",
      "execution_count": null,
      "metadata": {
        "id": "3cjo-G35Wama"
      },
      "outputs": [],
      "source": [
        "!git clone https://github.com/raquelaoki/CompBioAndSimulated_Datasets.git\n",
        "!git clone -b in_progress https://github.com/raquelaoki/causal-batle.git\n",
        "!git clone https://github.com/rik-helwegen/CEVAE_pytorch.git\n",
        "!mv  -v /content/causal-batle/* /content/\n",
        "\n",
        "!git clone https://github.com/anndvision/quince.git\n",
        "!cd /content/quince; zip -r quince.zip quince\n",
        "!mv -v /content/quince/quince.zip /content/\n",
        "!rm -R content/quince\n",
        "!unzip /content/quince.zip \n",
        "!pip install pyreadr\n"
      ]
    },
    {
      "cell_type": "code",
      "source": [
        "!python -m unit_test"
      ],
      "metadata": {
        "id": "_yNqxD-JMnT-"
      },
      "execution_count": null,
      "outputs": []
    },
    {
      "cell_type": "code",
      "execution_count": null,
      "metadata": {
        "id": "cK4ir5zqZlci"
      },
      "outputs": [],
      "source": [
        "import logging \n",
        "import pandas as pd\n",
        "import numpy as np \n",
        "from main import main\n",
        "\n",
        "#logging.basicConfig(level=logging.DEBUG)\n",
        "\n",
        "paths_args = {\n",
        "    'config':'/content/config/debug/', \n",
        "    'drive': '',\n",
        "     'use_range_source_p': True,  #Try increase size of source\n",
        "     'save':False,\n",
        "}\n",
        "\n",
        "table = main(paths_args)\n",
        "table['config'] = table['data_name']+'_'+table['model_name']\n",
        "table_stats = table[['config', 'source_size_p', 'mae_naive','mae_aipw']]\n",
        "table_stats.groupby(['config','source_size_p']).mean()"
      ]
    }
  ],
  "metadata": {
    "accelerator": "GPU",
    "colab": {
      "background_execution": "on",
      "collapsed_sections": [],
      "name": "small_code_tests.ipynb",
      "provenance": []
    },
    "kernelspec": {
      "display_name": "Python 3",
      "name": "python3"
    },
    "language_info": {
      "name": "python"
    }
  },
  "nbformat": 4,
  "nbformat_minor": 0
}