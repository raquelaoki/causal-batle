{
  "nbformat": 4,
  "nbformat_minor": 0,
  "metadata": {
    "colab": {
      "name": "small_code_tests.ipynb",
      "provenance": [],
      "collapsed_sections": [],
      "background_execution": "on"
    },
    "kernelspec": {
      "name": "python3",
      "display_name": "Python 3"
    },
    "language_info": {
      "name": "python"
    },
    "accelerator": "GPU"
  },
  "cells": [
    {
      "cell_type": "code",
      "source": [
        "!git clone https://github.com/raquelaoki/CompBioAndSimulated_Datasets.git\n",
        "!git clone -b in_progress https://github.com/raquelaoki/causal-batle.git\n",
        "!mv  -v /content/causal-batle/* /content/\n",
        "!python -m unit_test"
      ],
      "metadata": {
        "id": "3cjo-G35Wama",
        "colab": {
          "base_uri": "https://localhost:8080/"
        },
        "outputId": "e8ca2255-970a-4b1b-f52d-b4709986ccd7"
      },
      "execution_count": 1,
      "outputs": [
        {
          "output_type": "stream",
          "name": "stdout",
          "text": [
            "Cloning into 'CompBioAndSimulated_Datasets'...\n",
            "remote: Enumerating objects: 190, done.\u001b[K\n",
            "remote: Counting objects: 100% (190/190), done.\u001b[K\n",
            "remote: Compressing objects: 100% (133/133), done.\u001b[K\n",
            "remote: Total 190 (delta 119), reused 121 (delta 57), pack-reused 0\u001b[K\n",
            "Receiving objects: 100% (190/190), 136.84 KiB | 11.40 MiB/s, done.\n",
            "Resolving deltas: 100% (119/119), done.\n"
          ]
        }
      ]
    },
    {
      "cell_type": "code",
      "source": [
        "from google.colab import drive\n",
        "drive.mount('/content/drive')"
      ],
      "metadata": {
        "colab": {
          "base_uri": "https://localhost:8080/"
        },
        "id": "qIVqxIqsbkrf",
        "outputId": "342430be-2132-4b49-cbcc-1d11b191cc9c"
      },
      "execution_count": 2,
      "outputs": [
        {
          "output_type": "stream",
          "name": "stdout",
          "text": [
            "Mounted at /content/drive\n"
          ]
        }
      ]
    },
    {
      "cell_type": "code",
      "source": [
        "gpu_info = !nvidia-smi\n",
        "gpu_info = '\\n'.join(gpu_info)\n",
        "if gpu_info.find('failed') >= 0:\n",
        "  print('Not connected to a GPU')\n",
        "else:\n",
        "  print(gpu_info)\n",
        "\n",
        "#P100"
      ],
      "metadata": {
        "id": "J7wP5F0IQKSO"
      },
      "execution_count": null,
      "outputs": []
    },
    {
      "cell_type": "code",
      "source": [
        "import logging \n",
        "import pandas as pd\n",
        "import numpy as np \n",
        "from main import main\n",
        "\n",
        "#logging.basicConfig(level=logging.DEBUG)\n",
        "logging.basicConfig(level=logging.WARNING)\n",
        "\n",
        "paths_args = {\n",
        "    'config':'/content/config/', \n",
        "    'drive': '/content/drive/MyDrive/Colab Notebooks/outputs/',\n",
        "    'load_previous_table':False,\n",
        "     'use_range_source_p': False,\n",
        "     'save':False,\n",
        "}\n",
        "table = main(paths_args)\n",
        "table_stats = table[['model_name', 'source_size_p', 'mae_naive','mae_aipw']]\n",
        "table_stats.groupby(['model_name','source_size_p']).mean()"
      ],
      "metadata": {
        "id": "cK4ir5zqZlci"
      },
      "execution_count": null,
      "outputs": []
    },
    {
      "cell_type": "code",
      "source": [
        "table[['model_name', 'source_size_p', 'mae_naive','mae_aipw']]"
      ],
      "metadata": {
        "id": "IqmF_0jerjDe"
      },
      "execution_count": null,
      "outputs": []
    },
    {
      "cell_type": "code",
      "source": [
        "# Load the TensorBoard notebook extension\n",
        "%load_ext tensorboard\n",
        "\n",
        "%tensorboard --logdir logs/"
      ],
      "metadata": {
        "id": "LvJnqVRbLveZ"
      },
      "execution_count": null,
      "outputs": []
    }
  ]
}