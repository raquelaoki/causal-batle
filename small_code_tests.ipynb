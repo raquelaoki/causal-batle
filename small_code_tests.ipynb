{
  "nbformat": 4,
  "nbformat_minor": 0,
  "metadata": {
    "colab": {
      "name": "small_code_tests.ipynb",
      "provenance": [],
      "collapsed_sections": [],
      "background_execution": "on"
    },
    "kernelspec": {
      "name": "python3",
      "display_name": "Python 3"
    },
    "language_info": {
      "name": "python"
    },
    "accelerator": "GPU"
  },
  "cells": [
    {
      "cell_type": "code",
      "source": [
        "!git clone https://github.com/raquelaoki/CompBioAndSimulated_Datasets.git\n",
        "!mkdir config data data/ihdp\n",
        "#!python -m unit_test\n"
      ],
      "metadata": {
        "id": "3cjo-G35Wama"
      },
      "execution_count": null,
      "outputs": []
    },
    {
      "cell_type": "code",
      "source": [
        "from google.colab import drive\n",
        "drive.mount('/content/drive')"
      ],
      "metadata": {
        "id": "qIVqxIqsbkrf"
      },
      "execution_count": null,
      "outputs": []
    },
    {
      "cell_type": "code",
      "source": [
        "gpu_info = !nvidia-smi\n",
        "gpu_info = '\\n'.join(gpu_info)\n",
        "if gpu_info.find('failed') >= 0:\n",
        "  print('Not connected to a GPU')\n",
        "else:\n",
        "  print(gpu_info)\n",
        "\n",
        "#P100"
      ],
      "metadata": {
        "id": "J7wP5F0IQKSO"
      },
      "execution_count": null,
      "outputs": []
    },
    {
      "cell_type": "code",
      "source": [
        "import logging \n",
        "import pandas as pd\n",
        "import numpy as np \n",
        "from main import main\n",
        "\n",
        "#logging.basicConfig(level=logging.DEBUG)\n",
        "logging.basicConfig(level=logging.WARNING)\n",
        "\n",
        "paths_args = {\n",
        "    'config':'/content/config/', \n",
        "    'drive': '/content/drive/MyDrive/Colab Notebooks/outputs/',\n",
        "    'load_previous_table':True,\n",
        "     'use_range_source_p': True,\n",
        "     'save':False,\n",
        "     'load_previous_table_path': None,\n",
        "}\n",
        "table = main(paths_args)\n",
        "table_stats = table[['model_name', 'source_size_p', 'mae_naive','mae_aipw']]\n",
        "table_stats.groupby(['model_name','source_size_p']).mean()"
      ],
      "metadata": {
        "id": "cK4ir5zqZlci"
      },
      "execution_count": null,
      "outputs": []
    },
    {
      "cell_type": "code",
      "source": [
        "table[['model_name', 'source_size_p', 'mae_naive','mae_aipw']]"
      ],
      "metadata": {
        "id": "IqmF_0jerjDe"
      },
      "execution_count": null,
      "outputs": []
    },
    {
      "cell_type": "code",
      "source": [
        "# Load the TensorBoard notebook extension\n",
        "%load_ext tensorboard\n",
        "\n",
        "%tensorboard --logdir logs/"
      ],
      "metadata": {
        "id": "LvJnqVRbLveZ"
      },
      "execution_count": null,
      "outputs": []
    }
  ]
}